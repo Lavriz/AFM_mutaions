{
 "cells": [
  {
   "cell_type": "code",
   "execution_count": 6,
   "metadata": {},
   "outputs": [],
   "source": [
    "import csv"
   ]
  },
  {
   "cell_type": "code",
   "execution_count": 28,
   "metadata": {},
   "outputs": [],
   "source": [
    "import pandas as pd"
   ]
  },
  {
   "cell_type": "code",
   "execution_count": 68,
   "metadata": {},
   "outputs": [
    {
     "data": {
      "text/html": [
       "<div>\n",
       "<style scoped>\n",
       "    .dataframe tbody tr th:only-of-type {\n",
       "        vertical-align: middle;\n",
       "    }\n",
       "\n",
       "    .dataframe tbody tr th {\n",
       "        vertical-align: top;\n",
       "    }\n",
       "\n",
       "    .dataframe thead th {\n",
       "        text-align: right;\n",
       "    }\n",
       "</style>\n",
       "<table border=\"1\" class=\"dataframe\">\n",
       "  <thead>\n",
       "    <tr style=\"text-align: right;\">\n",
       "      <th></th>\n",
       "      <th>icgc_mutation_id</th>\n",
       "      <th>icgc_donor_id</th>\n",
       "      <th>project_code</th>\n",
       "      <th>icgc_specimen_id</th>\n",
       "      <th>icgc_sample_id</th>\n",
       "      <th>matched_icgc_sample_id</th>\n",
       "      <th>submitted_sample_id</th>\n",
       "      <th>submitted_matched_sample_id</th>\n",
       "      <th>chromosome</th>\n",
       "      <th>chromosome_start</th>\n",
       "      <th>...</th>\n",
       "      <th>experimental_protocol</th>\n",
       "      <th>sequencing_strategy</th>\n",
       "      <th>base_calling_algorithm</th>\n",
       "      <th>alignment_algorithm</th>\n",
       "      <th>variation_calling_algorithm</th>\n",
       "      <th>other_analysis_algorithm</th>\n",
       "      <th>seq_coverage</th>\n",
       "      <th>raw_data_repository</th>\n",
       "      <th>raw_data_accession</th>\n",
       "      <th>initial_data_release_date</th>\n",
       "    </tr>\n",
       "  </thead>\n",
       "  <tbody>\n",
       "    <tr>\n",
       "      <th>0</th>\n",
       "      <td>MU40721252</td>\n",
       "      <td>DO222843</td>\n",
       "      <td>MELA-AU</td>\n",
       "      <td>SP129121</td>\n",
       "      <td>SA562115</td>\n",
       "      <td>SA562119</td>\n",
       "      <td>EXTERN-MELA-20140924-080</td>\n",
       "      <td>EXTERN-MELA-20140924-081</td>\n",
       "      <td>16</td>\n",
       "      <td>61501100</td>\n",
       "      <td>...</td>\n",
       "      <td>Paired End http://www.illumina.com/technology/...</td>\n",
       "      <td>WGS</td>\n",
       "      <td>RTA http://support.illumina.com/sequencing/seq...</td>\n",
       "      <td>bwa http://bio-bwa.sourceforge.net/</td>\n",
       "      <td>qSNP http://sourceforge.net/p/adamajava/wiki/q...</td>\n",
       "      <td>GATK http://www.broadinstitute.org/gatk/</td>\n",
       "      <td>NaN</td>\n",
       "      <td>EGA</td>\n",
       "      <td>EGAS00001001552</td>\n",
       "      <td>NaN</td>\n",
       "    </tr>\n",
       "    <tr>\n",
       "      <th>1</th>\n",
       "      <td>MU40721766</td>\n",
       "      <td>DO222843</td>\n",
       "      <td>MELA-AU</td>\n",
       "      <td>SP129119</td>\n",
       "      <td>SA562110</td>\n",
       "      <td>SA562119</td>\n",
       "      <td>EXTERN-MELA-20140924-079</td>\n",
       "      <td>EXTERN-MELA-20140924-081</td>\n",
       "      <td>2</td>\n",
       "      <td>177000473</td>\n",
       "      <td>...</td>\n",
       "      <td>Paired End http://www.illumina.com/technology/...</td>\n",
       "      <td>WGS</td>\n",
       "      <td>RTA http://support.illumina.com/sequencing/seq...</td>\n",
       "      <td>bwa http://bio-bwa.sourceforge.net/</td>\n",
       "      <td>qSNP http://sourceforge.net/p/adamajava/wiki/q...</td>\n",
       "      <td>GATK http://www.broadinstitute.org/gatk/</td>\n",
       "      <td>NaN</td>\n",
       "      <td>EGA</td>\n",
       "      <td>EGAS00001001552</td>\n",
       "      <td>NaN</td>\n",
       "    </tr>\n",
       "  </tbody>\n",
       "</table>\n",
       "<p>2 rows × 42 columns</p>\n",
       "</div>"
      ],
      "text/plain": [
       "  icgc_mutation_id icgc_donor_id project_code icgc_specimen_id icgc_sample_id  \\\n",
       "0       MU40721252      DO222843      MELA-AU         SP129121       SA562115   \n",
       "1       MU40721766      DO222843      MELA-AU         SP129119       SA562110   \n",
       "\n",
       "  matched_icgc_sample_id       submitted_sample_id  \\\n",
       "0               SA562119  EXTERN-MELA-20140924-080   \n",
       "1               SA562119  EXTERN-MELA-20140924-079   \n",
       "\n",
       "  submitted_matched_sample_id chromosome  chromosome_start  ...  \\\n",
       "0    EXTERN-MELA-20140924-081         16          61501100  ...   \n",
       "1    EXTERN-MELA-20140924-081          2         177000473  ...   \n",
       "\n",
       "                               experimental_protocol  sequencing_strategy  \\\n",
       "0  Paired End http://www.illumina.com/technology/...                  WGS   \n",
       "1  Paired End http://www.illumina.com/technology/...                  WGS   \n",
       "\n",
       "                              base_calling_algorithm  \\\n",
       "0  RTA http://support.illumina.com/sequencing/seq...   \n",
       "1  RTA http://support.illumina.com/sequencing/seq...   \n",
       "\n",
       "                   alignment_algorithm  \\\n",
       "0  bwa http://bio-bwa.sourceforge.net/   \n",
       "1  bwa http://bio-bwa.sourceforge.net/   \n",
       "\n",
       "                         variation_calling_algorithm  \\\n",
       "0  qSNP http://sourceforge.net/p/adamajava/wiki/q...   \n",
       "1  qSNP http://sourceforge.net/p/adamajava/wiki/q...   \n",
       "\n",
       "                   other_analysis_algorithm seq_coverage  raw_data_repository  \\\n",
       "0  GATK http://www.broadinstitute.org/gatk/          NaN                  EGA   \n",
       "1  GATK http://www.broadinstitute.org/gatk/          NaN                  EGA   \n",
       "\n",
       "   raw_data_accession  initial_data_release_date  \n",
       "0     EGAS00001001552                        NaN  \n",
       "1     EGAS00001001552                        NaN  \n",
       "\n",
       "[2 rows x 42 columns]"
      ]
     },
     "execution_count": 68,
     "metadata": {},
     "output_type": "execute_result"
    }
   ],
   "source": [
    "df1 = pd.read_csv('muts_AFM.tsv')\n",
    "df2 = pd.read_csv('SSM5.tsv',sep='\\t')\n",
    "df2.head(2)"
   ]
  },
  {
   "cell_type": "code",
   "execution_count": 70,
   "metadata": {},
   "outputs": [
    {
     "data": {
      "text/plain": [
       "0     MU44359070\n",
       "1     MU48030814\n",
       "2     MU53488288\n",
       "3     MU53488288\n",
       "4     MU61876419\n",
       "5     MU61876419\n",
       "6     MU51948596\n",
       "7     MU47936919\n",
       "8     MU47936919\n",
       "9     MU42199764\n",
       "10    MU42199764\n",
       "11    MU40963796\n",
       "12    MU51201612\n",
       "13    MU51201612\n",
       "Name: icgc_mutation_id, dtype: object"
      ]
     },
     "execution_count": 70,
     "metadata": {},
     "output_type": "execute_result"
    }
   ],
   "source": [
    "common_mutations = pd.merge(df1, df2, on=['icgc_mutation_id'])\n",
    "common_mutations['icgc_mutation_id']"
   ]
  }
 ],
 "metadata": {
  "kernelspec": {
   "display_name": "Python 3",
   "language": "python",
   "name": "python3"
  },
  "language_info": {
   "codemirror_mode": {
    "name": "ipython",
    "version": 3
   },
   "file_extension": ".py",
   "mimetype": "text/x-python",
   "name": "python",
   "nbconvert_exporter": "python",
   "pygments_lexer": "ipython3",
   "version": "3.8.2"
  }
 },
 "nbformat": 4,
 "nbformat_minor": 4
}
