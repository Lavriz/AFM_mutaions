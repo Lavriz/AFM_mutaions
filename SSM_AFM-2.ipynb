{
 "cells": [
  {
   "cell_type": "code",
   "execution_count": 3,
   "metadata": {},
   "outputs": [],
   "source": [
    "import csv"
   ]
  },
  {
   "cell_type": "code",
   "execution_count": 2,
   "metadata": {},
   "outputs": [],
   "source": [
    "import pandas as pd"
   ]
  },
  {
   "cell_type": "code",
   "execution_count": 11,
   "metadata": {},
   "outputs": [],
   "source": [
    "df1 = pd.read_csv('muts_AFM.tsv',sep='\\t')\n",
    "df2 = pd.read_csv('muts_SGCZ.tsv',sep='\\t')"
   ]
  },
  {
   "cell_type": "code",
   "execution_count": 14,
   "metadata": {},
   "outputs": [
    {
     "data": {
      "text/plain": [
       "1       MU53198160\n",
       "2       MU54270474\n",
       "3       MU54270474\n",
       "4       MU54270474\n",
       "5       MU54270474\n",
       "           ...    \n",
       "1284    MU48637068\n",
       "1285    MU54333551\n",
       "1286    MU54333551\n",
       "1287    MU55511534\n",
       "1288    MU55511534\n",
       "Name: icgc_mutation_id, Length: 1288, dtype: object"
      ]
     },
     "execution_count": 14,
     "metadata": {},
     "output_type": "execute_result"
    }
   ],
   "source": [
    "common_mutations = pd.merge(df1, df2, on=['icgc_mutation_id'])\n",
    "common_mutations['icgc_mutation_id']"
   ]
  },
  {
   "cell_type": "code",
   "execution_count": 17,
   "metadata": {},
   "outputs": [],
   "source": [
    "common_mutations.to_csv('common_muts_AFM_SGCZ.csv')"
   ]
  }
 ],
 "metadata": {
  "kernelspec": {
   "display_name": "Python 3",
   "language": "python",
   "name": "python3"
  },
  "language_info": {
   "codemirror_mode": {
    "name": "ipython",
    "version": 3
   },
   "file_extension": ".py",
   "mimetype": "text/x-python",
   "name": "python",
   "nbconvert_exporter": "python",
   "pygments_lexer": "ipython3",
   "version": "3.8.2"
  }
 },
 "nbformat": 4,
 "nbformat_minor": 4
}
