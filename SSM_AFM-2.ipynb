{
 "cells": [
  {
   "cell_type": "code",
   "execution_count": 6,
   "metadata": {},
   "outputs": [],
   "source": [
    "import csv"
   ]
  },
  {
   "cell_type": "code",
   "execution_count": 28,
   "metadata": {},
   "outputs": [],
   "source": [
    "import pandas as pd"
   ]
  },
  {
   "cell_type": "code",
   "execution_count": 71,
   "metadata": {},
   "outputs": [
    {
     "data": {
      "text/html": [
       "<div>\n",
       "<style scoped>\n",
       "    .dataframe tbody tr th:only-of-type {\n",
       "        vertical-align: middle;\n",
       "    }\n",
       "\n",
       "    .dataframe tbody tr th {\n",
       "        vertical-align: top;\n",
       "    }\n",
       "\n",
       "    .dataframe thead th {\n",
       "        text-align: right;\n",
       "    }\n",
       "</style>\n",
       "<table border=\"1\" class=\"dataframe\">\n",
       "  <thead>\n",
       "    <tr style=\"text-align: right;\">\n",
       "      <th></th>\n",
       "      <th>icgc_mutation_id</th>\n",
       "      <th>icgc_donor_id</th>\n",
       "      <th>project_code</th>\n",
       "      <th>icgc_specimen_id</th>\n",
       "      <th>icgc_sample_id</th>\n",
       "      <th>matched_icgc_sample_id</th>\n",
       "      <th>submitted_sample_id</th>\n",
       "      <th>submitted_matched_sample_id</th>\n",
       "      <th>chromosome</th>\n",
       "      <th>chromosome_start</th>\n",
       "      <th>...</th>\n",
       "      <th>experimental_protocol</th>\n",
       "      <th>sequencing_strategy</th>\n",
       "      <th>base_calling_algorithm</th>\n",
       "      <th>alignment_algorithm</th>\n",
       "      <th>variation_calling_algorithm</th>\n",
       "      <th>other_analysis_algorithm</th>\n",
       "      <th>seq_coverage</th>\n",
       "      <th>raw_data_repository</th>\n",
       "      <th>raw_data_accession</th>\n",
       "      <th>initial_data_release_date</th>\n",
       "    </tr>\n",
       "  </thead>\n",
       "  <tbody>\n",
       "    <tr>\n",
       "      <th>0</th>\n",
       "      <td>MU4483807</td>\n",
       "      <td>DO37406</td>\n",
       "      <td>SKCM-US</td>\n",
       "      <td>SP82392</td>\n",
       "      <td>SA433235</td>\n",
       "      <td>SA433271</td>\n",
       "      <td>TCGA-FW-A3R5-06A-11D-A23B-08</td>\n",
       "      <td>TCGA-FW-A3R5-10A-01D-A23B-08</td>\n",
       "      <td>9</td>\n",
       "      <td>107367630</td>\n",
       "      <td>...</td>\n",
       "      <td>NaN</td>\n",
       "      <td>WXS</td>\n",
       "      <td>NaN</td>\n",
       "      <td>NaN</td>\n",
       "      <td>TCGA-MC3 https://gdc.cancer.gov/about-data/pub...</td>\n",
       "      <td>NaN</td>\n",
       "      <td>NaN</td>\n",
       "      <td>GDC</td>\n",
       "      <td>TCGA-FW-A3R5-06A-11D-A23B-08</td>\n",
       "      <td>NaN</td>\n",
       "    </tr>\n",
       "    <tr>\n",
       "      <th>1</th>\n",
       "      <td>MU4483807</td>\n",
       "      <td>DO37406</td>\n",
       "      <td>SKCM-US</td>\n",
       "      <td>SP82392</td>\n",
       "      <td>SA433235</td>\n",
       "      <td>SA433271</td>\n",
       "      <td>TCGA-FW-A3R5-06A-11D-A23B-08</td>\n",
       "      <td>TCGA-FW-A3R5-10A-01D-A23B-08</td>\n",
       "      <td>9</td>\n",
       "      <td>107367630</td>\n",
       "      <td>...</td>\n",
       "      <td>NaN</td>\n",
       "      <td>WXS</td>\n",
       "      <td>NaN</td>\n",
       "      <td>NaN</td>\n",
       "      <td>TCGA-MC3 https://gdc.cancer.gov/about-data/pub...</td>\n",
       "      <td>NaN</td>\n",
       "      <td>NaN</td>\n",
       "      <td>GDC</td>\n",
       "      <td>TCGA-FW-A3R5-06A-11D-A23B-08</td>\n",
       "      <td>NaN</td>\n",
       "    </tr>\n",
       "  </tbody>\n",
       "</table>\n",
       "<p>2 rows × 42 columns</p>\n",
       "</div>"
      ],
      "text/plain": [
       "  icgc_mutation_id icgc_donor_id project_code icgc_specimen_id icgc_sample_id  \\\n",
       "0        MU4483807       DO37406      SKCM-US          SP82392       SA433235   \n",
       "1        MU4483807       DO37406      SKCM-US          SP82392       SA433235   \n",
       "\n",
       "  matched_icgc_sample_id           submitted_sample_id  \\\n",
       "0               SA433271  TCGA-FW-A3R5-06A-11D-A23B-08   \n",
       "1               SA433271  TCGA-FW-A3R5-06A-11D-A23B-08   \n",
       "\n",
       "    submitted_matched_sample_id chromosome  chromosome_start  ...  \\\n",
       "0  TCGA-FW-A3R5-10A-01D-A23B-08          9         107367630  ...   \n",
       "1  TCGA-FW-A3R5-10A-01D-A23B-08          9         107367630  ...   \n",
       "\n",
       "   experimental_protocol  sequencing_strategy base_calling_algorithm  \\\n",
       "0                    NaN                  WXS                    NaN   \n",
       "1                    NaN                  WXS                    NaN   \n",
       "\n",
       "  alignment_algorithm                        variation_calling_algorithm  \\\n",
       "0                 NaN  TCGA-MC3 https://gdc.cancer.gov/about-data/pub...   \n",
       "1                 NaN  TCGA-MC3 https://gdc.cancer.gov/about-data/pub...   \n",
       "\n",
       "  other_analysis_algorithm seq_coverage  raw_data_repository  \\\n",
       "0                      NaN          NaN                  GDC   \n",
       "1                      NaN          NaN                  GDC   \n",
       "\n",
       "             raw_data_accession  initial_data_release_date  \n",
       "0  TCGA-FW-A3R5-06A-11D-A23B-08                        NaN  \n",
       "1  TCGA-FW-A3R5-06A-11D-A23B-08                        NaN  \n",
       "\n",
       "[2 rows x 42 columns]"
      ]
     },
     "execution_count": 71,
     "metadata": {},
     "output_type": "execute_result"
    }
   ],
   "source": [
    "df1 = pd.read_csv('muts_AFM.tsv')\n",
    "df2 = pd.read_csv('SSM6.tsv',sep='\\t')\n",
    "df2.head(2)"
   ]
  },
  {
   "cell_type": "code",
   "execution_count": 72,
   "metadata": {},
   "outputs": [
    {
     "data": {
      "text/plain": [
       "Series([], Name: icgc_mutation_id, dtype: object)"
      ]
     },
     "execution_count": 72,
     "metadata": {},
     "output_type": "execute_result"
    }
   ],
   "source": [
    "common_mutations = pd.merge(df1, df2, on=['icgc_mutation_id'])\n",
    "common_mutations['icgc_mutation_id']"
   ]
  },
  {
   "cell_type": "code",
   "execution_count": null,
   "metadata": {},
   "outputs": [],
   "source": []
  }
 ],
 "metadata": {
  "kernelspec": {
   "display_name": "Python 3",
   "language": "python",
   "name": "python3"
  },
  "language_info": {
   "codemirror_mode": {
    "name": "ipython",
    "version": 3
   },
   "file_extension": ".py",
   "mimetype": "text/x-python",
   "name": "python",
   "nbconvert_exporter": "python",
   "pygments_lexer": "ipython3",
   "version": "3.8.2"
  }
 },
 "nbformat": 4,
 "nbformat_minor": 4
}
