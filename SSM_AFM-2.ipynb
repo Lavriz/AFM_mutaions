{
 "cells": [
  {
   "cell_type": "code",
   "execution_count": 6,
   "metadata": {},
   "outputs": [],
   "source": [
    "import csv"
   ]
  },
  {
   "cell_type": "code",
   "execution_count": 28,
   "metadata": {},
   "outputs": [],
   "source": [
    "import pandas as pd"
   ]
  },
  {
   "cell_type": "code",
   "execution_count": 98,
   "metadata": {},
   "outputs": [
    {
     "data": {
      "text/html": [
       "<div>\n",
       "<style scoped>\n",
       "    .dataframe tbody tr th:only-of-type {\n",
       "        vertical-align: middle;\n",
       "    }\n",
       "\n",
       "    .dataframe tbody tr th {\n",
       "        vertical-align: top;\n",
       "    }\n",
       "\n",
       "    .dataframe thead th {\n",
       "        text-align: right;\n",
       "    }\n",
       "</style>\n",
       "<table border=\"1\" class=\"dataframe\">\n",
       "  <thead>\n",
       "    <tr style=\"text-align: right;\">\n",
       "      <th></th>\n",
       "      <th>icgc_mutation_id</th>\n",
       "      <th>icgc_donor_id</th>\n",
       "      <th>project_code</th>\n",
       "      <th>icgc_specimen_id</th>\n",
       "      <th>icgc_sample_id</th>\n",
       "      <th>matched_icgc_sample_id</th>\n",
       "      <th>submitted_sample_id</th>\n",
       "      <th>submitted_matched_sample_id</th>\n",
       "      <th>chromosome</th>\n",
       "      <th>chromosome_start</th>\n",
       "      <th>...</th>\n",
       "      <th>experimental_protocol</th>\n",
       "      <th>sequencing_strategy</th>\n",
       "      <th>base_calling_algorithm</th>\n",
       "      <th>alignment_algorithm</th>\n",
       "      <th>variation_calling_algorithm</th>\n",
       "      <th>other_analysis_algorithm</th>\n",
       "      <th>seq_coverage</th>\n",
       "      <th>raw_data_repository</th>\n",
       "      <th>raw_data_accession</th>\n",
       "      <th>initial_data_release_date</th>\n",
       "    </tr>\n",
       "  </thead>\n",
       "  <tbody>\n",
       "    <tr>\n",
       "      <th>0</th>\n",
       "      <td>MU42438270</td>\n",
       "      <td>DO229546</td>\n",
       "      <td>UTCA-FR</td>\n",
       "      <td>SP195919</td>\n",
       "      <td>SA599169</td>\n",
       "      <td>SA599162</td>\n",
       "      <td>DA16036</td>\n",
       "      <td>DA1603A</td>\n",
       "      <td>8</td>\n",
       "      <td>31846391</td>\n",
       "      <td>...</td>\n",
       "      <td>Paired End http://www.illumina.com/technology</td>\n",
       "      <td>WGS</td>\n",
       "      <td>CASAVA http://support.illumina.com/sequencing/...</td>\n",
       "      <td>BWA http://bio-bwa.sourceforge.net</td>\n",
       "      <td>MuTect http://www.broadinstitute.org/cancer/cg...</td>\n",
       "      <td>NaN</td>\n",
       "      <td>79.0</td>\n",
       "      <td>EGA</td>\n",
       "      <td>EGAF00001757559:EGAF00001757560:EGAF0000175756...</td>\n",
       "      <td>NaN</td>\n",
       "    </tr>\n",
       "    <tr>\n",
       "      <th>1</th>\n",
       "      <td>MU42438270</td>\n",
       "      <td>DO229546</td>\n",
       "      <td>UTCA-FR</td>\n",
       "      <td>SP195919</td>\n",
       "      <td>SA599169</td>\n",
       "      <td>SA599162</td>\n",
       "      <td>DA16036</td>\n",
       "      <td>DA1603A</td>\n",
       "      <td>8</td>\n",
       "      <td>31846391</td>\n",
       "      <td>...</td>\n",
       "      <td>Paired End http://www.illumina.com/technology</td>\n",
       "      <td>WGS</td>\n",
       "      <td>CASAVA http://support.illumina.com/sequencing/...</td>\n",
       "      <td>BWA http://bio-bwa.sourceforge.net</td>\n",
       "      <td>MuTect http://www.broadinstitute.org/cancer/cg...</td>\n",
       "      <td>NaN</td>\n",
       "      <td>79.0</td>\n",
       "      <td>EGA</td>\n",
       "      <td>EGAF00001757559:EGAF00001757560:EGAF0000175756...</td>\n",
       "      <td>NaN</td>\n",
       "    </tr>\n",
       "  </tbody>\n",
       "</table>\n",
       "<p>2 rows × 42 columns</p>\n",
       "</div>"
      ],
      "text/plain": [
       "  icgc_mutation_id icgc_donor_id project_code icgc_specimen_id icgc_sample_id  \\\n",
       "0       MU42438270      DO229546      UTCA-FR         SP195919       SA599169   \n",
       "1       MU42438270      DO229546      UTCA-FR         SP195919       SA599169   \n",
       "\n",
       "  matched_icgc_sample_id submitted_sample_id submitted_matched_sample_id  \\\n",
       "0               SA599162             DA16036                     DA1603A   \n",
       "1               SA599162             DA16036                     DA1603A   \n",
       "\n",
       "  chromosome  chromosome_start  ...  \\\n",
       "0          8          31846391  ...   \n",
       "1          8          31846391  ...   \n",
       "\n",
       "                           experimental_protocol  sequencing_strategy  \\\n",
       "0  Paired End http://www.illumina.com/technology                  WGS   \n",
       "1  Paired End http://www.illumina.com/technology                  WGS   \n",
       "\n",
       "                              base_calling_algorithm  \\\n",
       "0  CASAVA http://support.illumina.com/sequencing/...   \n",
       "1  CASAVA http://support.illumina.com/sequencing/...   \n",
       "\n",
       "                  alignment_algorithm  \\\n",
       "0  BWA http://bio-bwa.sourceforge.net   \n",
       "1  BWA http://bio-bwa.sourceforge.net   \n",
       "\n",
       "                         variation_calling_algorithm other_analysis_algorithm  \\\n",
       "0  MuTect http://www.broadinstitute.org/cancer/cg...                      NaN   \n",
       "1  MuTect http://www.broadinstitute.org/cancer/cg...                      NaN   \n",
       "\n",
       "  seq_coverage  raw_data_repository  \\\n",
       "0         79.0                  EGA   \n",
       "1         79.0                  EGA   \n",
       "\n",
       "                                  raw_data_accession  \\\n",
       "0  EGAF00001757559:EGAF00001757560:EGAF0000175756...   \n",
       "1  EGAF00001757559:EGAF00001757560:EGAF0000175756...   \n",
       "\n",
       "   initial_data_release_date  \n",
       "0                        NaN  \n",
       "1                        NaN  \n",
       "\n",
       "[2 rows x 42 columns]"
      ]
     },
     "execution_count": 98,
     "metadata": {},
     "output_type": "execute_result"
    }
   ],
   "source": [
    "df1 = pd.read_csv('muts_AFM.tsv')\n",
    "df2 = pd.read_csv('SSM14.tsv',sep='\\t')\n",
    "df2.head(2)"
   ]
  },
  {
   "cell_type": "code",
   "execution_count": 99,
   "metadata": {},
   "outputs": [
    {
     "data": {
      "text/plain": [
       "Series([], Name: icgc_mutation_id, dtype: object)"
      ]
     },
     "execution_count": 99,
     "metadata": {},
     "output_type": "execute_result"
    }
   ],
   "source": [
    "common_mutations = pd.merge(df1, df2, on=['icgc_mutation_id'])\n",
    "common_mutations['icgc_mutation_id']"
   ]
  }
 ],
 "metadata": {
  "kernelspec": {
   "display_name": "Python 3",
   "language": "python",
   "name": "python3"
  },
  "language_info": {
   "codemirror_mode": {
    "name": "ipython",
    "version": 3
   },
   "file_extension": ".py",
   "mimetype": "text/x-python",
   "name": "python",
   "nbconvert_exporter": "python",
   "pygments_lexer": "ipython3",
   "version": "3.8.2"
  }
 },
 "nbformat": 4,
 "nbformat_minor": 4
}
