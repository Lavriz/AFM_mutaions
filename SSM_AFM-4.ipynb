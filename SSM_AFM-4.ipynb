{
 "cells": [
  {
   "cell_type": "code",
   "execution_count": 6,
   "metadata": {},
   "outputs": [],
   "source": [
    "import csv"
   ]
  },
  {
   "cell_type": "code",
   "execution_count": 28,
   "metadata": {},
   "outputs": [],
   "source": [
    "import pandas as pd"
   ]
  },
  {
   "cell_type": "code",
   "execution_count": 75,
   "metadata": {},
   "outputs": [
    {
     "name": "stderr",
     "output_type": "stream",
     "text": [
      "/Library/Frameworks/Python.framework/Versions/3.8/lib/python3.8/site-packages/IPython/core/interactiveshell.py:3062: DtypeWarning: Columns (8) have mixed types.Specify dtype option on import or set low_memory=False.\n",
      "  has_raised = await self.run_ast_nodes(code_ast.body, cell_name,\n"
     ]
    },
    {
     "data": {
      "text/html": [
       "<div>\n",
       "<style scoped>\n",
       "    .dataframe tbody tr th:only-of-type {\n",
       "        vertical-align: middle;\n",
       "    }\n",
       "\n",
       "    .dataframe tbody tr th {\n",
       "        vertical-align: top;\n",
       "    }\n",
       "\n",
       "    .dataframe thead th {\n",
       "        text-align: right;\n",
       "    }\n",
       "</style>\n",
       "<table border=\"1\" class=\"dataframe\">\n",
       "  <thead>\n",
       "    <tr style=\"text-align: right;\">\n",
       "      <th></th>\n",
       "      <th>icgc_mutation_id</th>\n",
       "      <th>icgc_donor_id</th>\n",
       "      <th>project_code</th>\n",
       "      <th>icgc_specimen_id</th>\n",
       "      <th>icgc_sample_id</th>\n",
       "      <th>matched_icgc_sample_id</th>\n",
       "      <th>submitted_sample_id</th>\n",
       "      <th>submitted_matched_sample_id</th>\n",
       "      <th>chromosome</th>\n",
       "      <th>chromosome_start</th>\n",
       "      <th>...</th>\n",
       "      <th>experimental_protocol</th>\n",
       "      <th>sequencing_strategy</th>\n",
       "      <th>base_calling_algorithm</th>\n",
       "      <th>alignment_algorithm</th>\n",
       "      <th>variation_calling_algorithm</th>\n",
       "      <th>other_analysis_algorithm</th>\n",
       "      <th>seq_coverage</th>\n",
       "      <th>raw_data_repository</th>\n",
       "      <th>raw_data_accession</th>\n",
       "      <th>initial_data_release_date</th>\n",
       "    </tr>\n",
       "  </thead>\n",
       "  <tbody>\n",
       "    <tr>\n",
       "      <th>0</th>\n",
       "      <td>MU2820686</td>\n",
       "      <td>DO229177</td>\n",
       "      <td>LMS-FR</td>\n",
       "      <td>SP195219</td>\n",
       "      <td>SA598345</td>\n",
       "      <td>SA598081</td>\n",
       "      <td>LMS23T1</td>\n",
       "      <td>LMS23C1</td>\n",
       "      <td>22</td>\n",
       "      <td>23983225</td>\n",
       "      <td>...</td>\n",
       "      <td>Paired End http://www.illumina.com/technology/...</td>\n",
       "      <td>WGS</td>\n",
       "      <td>CASAVA http://support.illumina.com/sequencing/...</td>\n",
       "      <td>Bowtie2 http://bowtie-bio.sourceforge.net/bowt...</td>\n",
       "      <td>SAMtools http://samtools.sourceforge.net</td>\n",
       "      <td>NaN</td>\n",
       "      <td>NaN</td>\n",
       "      <td>EGA</td>\n",
       "      <td>EGAS00001001262:EGAF00001551887:EGAF0000155188...</td>\n",
       "      <td>NaN</td>\n",
       "    </tr>\n",
       "    <tr>\n",
       "      <th>1</th>\n",
       "      <td>MU2820686</td>\n",
       "      <td>DO229177</td>\n",
       "      <td>LMS-FR</td>\n",
       "      <td>SP195219</td>\n",
       "      <td>SA598345</td>\n",
       "      <td>SA598081</td>\n",
       "      <td>LMS23T1</td>\n",
       "      <td>LMS23C1</td>\n",
       "      <td>22</td>\n",
       "      <td>23983225</td>\n",
       "      <td>...</td>\n",
       "      <td>Paired End http://www.illumina.com/technology/...</td>\n",
       "      <td>WGS</td>\n",
       "      <td>CASAVA http://support.illumina.com/sequencing/...</td>\n",
       "      <td>Bowtie2 http://bowtie-bio.sourceforge.net/bowt...</td>\n",
       "      <td>SAMtools http://samtools.sourceforge.net</td>\n",
       "      <td>NaN</td>\n",
       "      <td>NaN</td>\n",
       "      <td>EGA</td>\n",
       "      <td>EGAS00001001262:EGAF00001551887:EGAF0000155188...</td>\n",
       "      <td>NaN</td>\n",
       "    </tr>\n",
       "  </tbody>\n",
       "</table>\n",
       "<p>2 rows × 42 columns</p>\n",
       "</div>"
      ],
      "text/plain": [
       "  icgc_mutation_id icgc_donor_id project_code icgc_specimen_id icgc_sample_id  \\\n",
       "0        MU2820686      DO229177       LMS-FR         SP195219       SA598345   \n",
       "1        MU2820686      DO229177       LMS-FR         SP195219       SA598345   \n",
       "\n",
       "  matched_icgc_sample_id submitted_sample_id submitted_matched_sample_id  \\\n",
       "0               SA598081             LMS23T1                     LMS23C1   \n",
       "1               SA598081             LMS23T1                     LMS23C1   \n",
       "\n",
       "  chromosome  chromosome_start  ...  \\\n",
       "0         22          23983225  ...   \n",
       "1         22          23983225  ...   \n",
       "\n",
       "                               experimental_protocol  sequencing_strategy  \\\n",
       "0  Paired End http://www.illumina.com/technology/...                  WGS   \n",
       "1  Paired End http://www.illumina.com/technology/...                  WGS   \n",
       "\n",
       "                              base_calling_algorithm  \\\n",
       "0  CASAVA http://support.illumina.com/sequencing/...   \n",
       "1  CASAVA http://support.illumina.com/sequencing/...   \n",
       "\n",
       "                                 alignment_algorithm  \\\n",
       "0  Bowtie2 http://bowtie-bio.sourceforge.net/bowt...   \n",
       "1  Bowtie2 http://bowtie-bio.sourceforge.net/bowt...   \n",
       "\n",
       "                variation_calling_algorithm other_analysis_algorithm  \\\n",
       "0  SAMtools http://samtools.sourceforge.net                      NaN   \n",
       "1  SAMtools http://samtools.sourceforge.net                      NaN   \n",
       "\n",
       "  seq_coverage  raw_data_repository  \\\n",
       "0          NaN                  EGA   \n",
       "1          NaN                  EGA   \n",
       "\n",
       "                                  raw_data_accession  \\\n",
       "0  EGAS00001001262:EGAF00001551887:EGAF0000155188...   \n",
       "1  EGAS00001001262:EGAF00001551887:EGAF0000155188...   \n",
       "\n",
       "   initial_data_release_date  \n",
       "0                        NaN  \n",
       "1                        NaN  \n",
       "\n",
       "[2 rows x 42 columns]"
      ]
     },
     "execution_count": 75,
     "metadata": {},
     "output_type": "execute_result"
    }
   ],
   "source": [
    "df1 = pd.read_csv('muts_AFM.tsv')\n",
    "df2 = pd.read_csv('SSM8.tsv',sep='\\t')\n",
    "df2.head(2)"
   ]
  },
  {
   "cell_type": "code",
   "execution_count": 76,
   "metadata": {},
   "outputs": [
    {
     "data": {
      "text/plain": [
       "0    MU43713029\n",
       "Name: icgc_mutation_id, dtype: object"
      ]
     },
     "execution_count": 76,
     "metadata": {},
     "output_type": "execute_result"
    }
   ],
   "source": [
    "common_mutations = pd.merge(df1, df2, on=['icgc_mutation_id'])\n",
    "common_mutations['icgc_mutation_id']"
   ]
  }
 ],
 "metadata": {
  "kernelspec": {
   "display_name": "Python 3",
   "language": "python",
   "name": "python3"
  },
  "language_info": {
   "codemirror_mode": {
    "name": "ipython",
    "version": 3
   },
   "file_extension": ".py",
   "mimetype": "text/x-python",
   "name": "python",
   "nbconvert_exporter": "python",
   "pygments_lexer": "ipython3",
   "version": "3.8.2"
  }
 },
 "nbformat": 4,
 "nbformat_minor": 4
}
